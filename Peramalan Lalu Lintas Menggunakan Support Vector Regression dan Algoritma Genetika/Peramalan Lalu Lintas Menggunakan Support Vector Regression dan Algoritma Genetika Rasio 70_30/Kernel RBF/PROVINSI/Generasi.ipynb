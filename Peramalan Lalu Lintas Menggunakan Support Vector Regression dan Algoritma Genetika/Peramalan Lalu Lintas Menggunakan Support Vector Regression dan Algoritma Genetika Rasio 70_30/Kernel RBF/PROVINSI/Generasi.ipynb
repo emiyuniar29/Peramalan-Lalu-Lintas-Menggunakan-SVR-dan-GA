{
 "cells": [
  {
   "cell_type": "code",
   "execution_count": 1,
   "id": "dbb6692d-757f-45d5-bc74-e75a787af5ac",
   "metadata": {},
   "outputs": [],
   "source": [
    "import random\n",
    "import numpy as np\n",
    "import pandas as pd\n",
    "import matplotlib.pyplot as plt\n",
    "from sklearn.preprocessing import MinMaxScaler\n",
    "from sklearn.model_selection import train_test_split\n",
    "from sklearn.svm import SVR\n",
    "from sklearn.metrics import mean_absolute_percentage_error\n",
    "from deap import base, creator, tools, algorithms"
   ]
  },
  {
   "cell_type": "code",
   "execution_count": 2,
   "id": "71b7f206-8b4d-43b8-bec2-04236ce9486e",
   "metadata": {},
   "outputs": [],
   "source": [
    "SEED = 42\n",
    "np.random.seed(SEED)\n",
    "\n",
    "data = pd.read_csv('DATA_PROVINSI.csv')\n",
    "\n",
    "df = pd.DataFrame(data)\n",
    "\n",
    "# Normalisasi MinMax\n",
    "scaler = MinMaxScaler()\n",
    "df['jumlah_kecelakaan'] = scaler.fit_transform(df[['jumlah_kecelakaan']])\n",
    "\n",
    "# Menambahkan kolom lag (pergeseran)\n",
    "df['jumlah_kecelakaan_lag'] = df['jumlah_kecelakaan'].shift(1)\n",
    "df = df.dropna() # Menghapus baris dengan nilai NaN"
   ]
  },
  {
   "cell_type": "code",
   "execution_count": 3,
   "id": "57d91698-0ec1-495a-b2c1-b4e7b1301634",
   "metadata": {},
   "outputs": [],
   "source": [
    "# Memisahkan data latih dan data uji sesuai rasio (0.8 untuk 80:20)\n",
    "train_size = int(0.7 * len(df))\n",
    "train_data = df.iloc[:train_size]\n",
    "test_data = df.iloc[train_size:]\n",
    "\n",
    "# Memisahkan fitur dan target untuk data latih\n",
    "X_train = train_data['jumlah_kecelakaan_lag'].values.reshape(-1, 1)\n",
    "y_train = train_data['jumlah_kecelakaan'].values\n",
    "\n",
    "# Memisahkan fitur dan target untuk data uji\n",
    "X_test = test_data['jumlah_kecelakaan_lag'].values.reshape(-1, 1)\n",
    "y_test = test_data['jumlah_kecelakaan'].values"
   ]
  },
  {
   "cell_type": "code",
   "execution_count": 4,
   "id": "04009107-230d-48a2-95e6-3b2708419946",
   "metadata": {},
   "outputs": [],
   "source": [
    "# Define evaluation function\n",
    "def evaluate(individual):\n",
    "    C, epsilon, gamma = individual\n",
    "    if C <= 0 or epsilon <= 0 or gamma <= 0:\n",
    "        return float('inf'),\n",
    "    svr = SVR(C=C, epsilon=epsilon, gamma=gamma)\n",
    "    svr.fit(X_train, y_train)\n",
    "    y_pred = svr.predict(X_test)\n",
    "    mape = mean_absolute_percentage_error(y_test, y_pred) * 100\n",
    "    return mape,\n",
    "    \n",
    "# Setup DEAP framework\n",
    "creator.create(\"FitnessMin\", base.Fitness, weights=(-1.0,))\n",
    "creator.create(\"Individual\", list, fitness=creator.FitnessMin)\n",
    "\n",
    "toolbox = base.Toolbox()\n",
    "\n",
    "# Parameter ranges\n",
    "parameter_ranges = [(0.0001, 50), (1e-07, 5), (1e-07, 5)]\n",
    "\n",
    "# Register genetic operators\n",
    "toolbox.register(\"attr_float\", random.uniform)\n",
    "toolbox.register(\"individual\", tools.initCycle, creator.Individual, \n",
    "                 (lambda: random.uniform(*parameter_ranges[0]),\n",
    "                  lambda: random.uniform(*parameter_ranges[1]),\n",
    "                  lambda: random.uniform(*parameter_ranges[2])), n=1)\n",
    "toolbox.register(\"population\", tools.initRepeat, list, toolbox.individual)\n",
    "\n",
    "toolbox.register(\"mate\", tools.cxUniform, indpb=0.1)  # Menggunakan crossover uniform\n",
    "toolbox.register(\"mutate\", tools.mutFlipBit, indpb=0.05)  # Menggunakan mutasi flipbit\n",
    "toolbox.register(\"select\", tools.selTournament, tournsize=3) # Menggunakan seleksi turnamen\n",
    "toolbox.register(\"evaluate\", evaluate)"
   ]
  },
  {
   "cell_type": "code",
   "execution_count": 5,
   "id": "7c6131a3-d41b-41bd-b232-db04e6faf228",
   "metadata": {},
   "outputs": [
    {
     "name": "stdout",
     "output_type": "stream",
     "text": [
      "MAPE terbaik untuk populasi 25: 24.428362554007556\n",
      "MAPE terbaik untuk populasi 50: 24.428362554007556\n",
      "MAPE terbaik untuk populasi 75: 24.428362554007556\n",
      "MAPE terbaik untuk populasi 100: 24.156513234156275\n",
      "MAPE terbaik untuk populasi 125: 24.14628729062938\n",
      "MAPE terbaik untuk populasi 150: 24.208899452447596\n",
      "MAPE terbaik untuk populasi 175: 24.109870293361947\n",
      "MAPE terbaik untuk populasi 200: 24.428362554007556\n",
      "MAPE terbaik untuk populasi 225: 24.324065263758904\n",
      "MAPE terbaik untuk populasi 250: 24.428362554007556\n",
      "MAPE terbaik untuk populasi 500: 24.428362554007556\n",
      "MAPE terbaik untuk populasi 1000: 24.183038559997456\n",
      "\n",
      "Ukuran populasi optimal: 175\n",
      "MAPE terbaik: 24.109870293361947\n"
     ]
    },
    {
     "data": {
      "image/png": "[encoded data removed]",
      "text/plain": [
       "<Figure size 640x480 with 1 Axes>"
      ]
     },
     "metadata": {},
     "output_type": "display_data"
    }
   ],
   "source": [
    "def main():\n",
    "    population_size = 80\n",
    "    num_generations_list = [25, 50, 75, 100, 125, 150, 175, 200, 225, 250, 500, 1000]\n",
    "    crossover_rate = 0.5\n",
    "    mutation_rate = 0.2\n",
    "    \n",
    "    best_num_generations = None\n",
    "    best_mape = float('inf')\n",
    "    \n",
    "    results = []\n",
    "\n",
    "    for num_generations in num_generations_list:\n",
    "        population = toolbox.population(n=population_size)\n",
    "\n",
    "        for generation in range(num_generations):\n",
    "            offspring = algorithms.varAnd(population, toolbox, cxpb=crossover_rate, mutpb=mutation_rate)\n",
    "            fits = toolbox.map(toolbox.evaluate, offspring)\n",
    "            for fit, ind in zip(fits, offspring):\n",
    "                ind.fitness.values = fit\n",
    "\n",
    "            population = toolbox.select(offspring, k=len(population))\n",
    "\n",
    "        best_individual = tools.selBest(population, k=1)[0]\n",
    "        mape = best_individual.fitness.values[0]\n",
    "\n",
    "        results.append((num_generations, best_mape))\n",
    "        print(f\"MAPE terbaik untuk populasi {num_generations}: {mape}\")\n",
    "\n",
    "        if mape < best_mape:\n",
    "            best_mape = mape\n",
    "            best_num_generations = num_generations\n",
    "\n",
    "    print(f\"\\nUkuran populasi optimal: {best_num_generations}\")\n",
    "    print(f\"MAPE terbaik: {best_mape}\")\n",
    "\n",
    "    # Plot hasil setiap iterasi dan nilai MAPE-nya\n",
    "    num_generations, best_num_generations_mape = zip(*results)\n",
    "    plt.plot(num_generations, best_num_generations_mape, marker='o')\n",
    "    plt.xlabel(\"Jumlah Populasi\")\n",
    "    plt.ylabel(\"MAPE\")\n",
    "    plt.title(\"MAPE vs Jumlah Populasi\")\n",
    "    plt.grid(True)\n",
    "    plt.show()\n",
    "\n",
    "if __name__ == \"__main__\":\n",
    "    main()"
   ]
  },
  {
   "cell_type": "code",
   "execution_count": null,
   "id": "5b7f0556-8ca2-4f7e-a5e8-288ee67d8004",
   "metadata": {},
   "outputs": [],
   "source": []
  }
 ],
 "metadata": {
  "kernelspec": {
   "display_name": "Python 3 (ipykernel)",
   "language": "python",
   "name": "python3"
  },
  "language_info": {
   "codemirror_mode": {
    "name": "ipython",
    "version": 3
   },
   "file_extension": ".py",
   "mimetype": "text/x-python",
   "name": "python",
   "nbconvert_exporter": "python",
   "pygments_lexer": "ipython3",
   "version": "3.12.3"
  }
 },
 "nbformat": 4,
 "nbformat_minor": 5
}
